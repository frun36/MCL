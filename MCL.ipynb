{
 "cells": [
  {
   "attachments": {},
   "cell_type": "markdown",
   "metadata": {},
   "source": [
    "# **Monte Carlo Localization**\n",
    "_Projekt zaliczeniowy dla przedmiotu \"Podstawy metod Monte Carlo w języku Python\", Franciszek Urbański, 11.06.2023_\n",
    "## Wstęp\n",
    "Aby robot mógł w pełni autonomicznie poruszać się po danym środowisku, musi on wiedzieć, gdzie dokładnie w tym środowisku się znajduje. Jest to niezmiernie ważne zagadnienie i istnieje wiele sposobów jego rozwiązania. \n",
    "\n",
    "Bardzo skutecznymi metodami lokalizacji robota są metody probabilistyczne, w tym przedstawiona niżej metoda lokalizacji przy użyciu metody Monte Carlo (Monte Carlo Localization - MCL).\n",
    "\n",
    "## Zasada działania\n",
    "Załóżmy, że robot posiada mapę środowiska w którym się znajduje. Nie zna jednak swojej lokalizacji w nim - może tylko wykonywać lokalne pomiary otoczenia. Celem algorymu MCL jest wyznaczenie na ich podstawie pozycji robota.\n",
    "\n",
    "Z każdą iteracją algorytmu robot generuje wiele losowych podejrzeń co do swojej pozycji (ang. _particles_, cząstki). Zaczynamy od jednorodnie rozmieszczonych cząstek w całej przestrzeni. Na początku każdej iteracji robot dokonuje obserwacji otoczenia i odrzuca cząstki, które nie są z nią zgodne. Następnie na podstawie rozmieszczenia nieodrzuconych cząstek estymowana jest funkcja gęstości prawdopodobieństwa pozycji robota, z której losowany jest nowy zbiór cząstek jako reprezentacja tej gęstości. Potem robot przemieszcza się w inne miejsce, koryguje zbiór cząstek o swoje przesunięcie i rozpoczyna proces od nowa. Po kolejnych iteracjach algorytmu cząstki skupiają się coraz bliżej realnej pozycji robota.\n",
    "\n",
    "Zauważmy że do przechowywania gęstości w tym podejściu wykorzystujemy próbkę cząstek. Ten fakt pozwala zaliczyć ten algorytm do metod Monte Carlo.\n",
    "\n",
    "Taka reprezentacja gęstości jest dużo bardziej efektywna niż przechowywanie informacji o niej w siatce o stałym rozmiarze komórki:\n",
    "* pozwala oszczędzić wiele pamięci (nie przechowujemy punktów w miejscach, w których robot na pewno się nie znajduje) \n",
    "* osiągnąć większą dokładność (w miejscu gdzie robot się najprawdopodobniej znajduje, losujemy punkty gęściej)\n",
    "\n",
    "Możemy jednak w pewnych przypadkach (np. gdy żadna z początkowo wylosowanych cząstek nie była wystarczająco blisko rzeczywistej pozycji robota) nie otrzymać poprawnego wyniku.\n"
   ]
  },
  {
   "attachments": {},
   "cell_type": "markdown",
   "metadata": {},
   "source": [
    "## Przykład - 1D\n",
    "Działanie algorytmu zademonstrujmy na uproszczonym modelu rzeczywistości.\n",
    "\n",
    "Rozważmy robota poruszającego się wzdłuż jednowymiarowego cyklicznego korytarza. W korytarzu tym w pewnych miejscach na ścianie znajdują się drzwi, a robot posiada czujnik do ich wykrywania.\n",
    "\n",
    "![Corridorbot_door.png](img/Corridorbot_door.png)\n",
    "_Żródło: https://en.wikipedia.org/wiki/Monte_Carlo_localization#/media/File:Corridorbot_door.png_\n",
    "\n",
    "W ramach uproszczenia zakładamy idealną pracę czujnika oraz idealną dokładność poruszania się robota.\n",
    "\n"
   ]
  },
  {
   "attachments": {},
   "cell_type": "markdown",
   "metadata": {},
   "source": [
    "### Implementacja\n",
    "\n",
    "Zacznijmy od zaimportowania potrzebnych nam bibliotek:"
   ]
  },
  {
   "cell_type": "code",
   "execution_count": 1,
   "metadata": {},
   "outputs": [],
   "source": [
    "import numpy as np\n",
    "from sklearn.neighbors import KernelDensity\n",
    "import matplotlib.pyplot as plt\n",
    "import matplotlib.animation as animation\n",
    "from matplotlib.patches import Rectangle"
   ]
  },
  {
   "attachments": {},
   "cell_type": "markdown",
   "metadata": {},
   "source": [
    "Zainicjowania generatora liczb losowych:"
   ]
  },
  {
   "cell_type": "code",
   "execution_count": 2,
   "metadata": {},
   "outputs": [],
   "source": [
    "seed = None\n",
    "rng = np.random.default_rng(seed)"
   ]
  },
  {
   "attachments": {},
   "cell_type": "markdown",
   "metadata": {},
   "source": [
    "Oraz zdefiniowania globalnych parametrów przestrzeni, w której znajduje się robot:"
   ]
  },
  {
   "cell_type": "code",
   "execution_count": 3,
   "metadata": {},
   "outputs": [],
   "source": [
    "def set_parameters(length, doors, door_width):\n",
    "    \"\"\"Sets global parameters for the current problem\"\"\"\n",
    "    global LENGTH\n",
    "    global DOORS\n",
    "    global DOOR_WIDTH\n",
    "    global DISTRIBUTION_GRID\n",
    "    LENGTH = length\n",
    "    DOORS = doors\n",
    "    DOOR_WIDTH = door_width\n",
    "    DISTRIBUTION_GRID = np.arange(0, length, 0.1)"
   ]
  },
  {
   "attachments": {},
   "cell_type": "markdown",
   "metadata": {},
   "source": [
    "* `LENGTH` określa długość korytarza w którym się znajdujemy\n",
    "* `DOORS` to lista przechowująca współrzędne drzwi w naszym korytarzu\n",
    "* `DOOR_WIDTH` określa jak szerokie są drzwi\n",
    "* `DISTRIBUTION_GRID` to siatka potrzebna do wyświetlenia funkcji gęstości\n",
    "\n",
    "Następnie zadeklarujmy kilka funkcji, które będą później przydatne:"
   ]
  },
  {
   "cell_type": "code",
   "execution_count": 4,
   "metadata": {},
   "outputs": [],
   "source": [
    "def is_at_door(position):\n",
    "    \"\"\"Returns whether point at `position` is at door\"\"\"\n",
    "    for d in DOORS:\n",
    "        # corridor is interpreted as circular, therefore we need three conditions, should a door\n",
    "        # be at one of the ends of our list\n",
    "        if abs(d - position) <= DOOR_WIDTH/2 or abs(d - (position - LENGTH)) <= DOOR_WIDTH/2 or abs(d - (position + LENGTH)) <= DOOR_WIDTH/2:\n",
    "            return True\n",
    "    return False\n",
    "\n",
    "\n",
    "def move_robot(position, move):\n",
    "    \"\"\"Moves robot from `position` by `move`, returns the new position and new sensor reading\"\"\"\n",
    "    # modulo operation ensures that the robot stays within our circle\n",
    "    new_position = (position + move) % LENGTH\n",
    "    sensor = is_at_door(new_position)\n",
    "    return new_position, sensor\n",
    "\n",
    "\n",
    "def move_particles(particles, move):\n",
    "    \"\"\"Moves set of particles by `move`, returns moved set\"\"\"\n",
    "    # modulo operation ensures that the particles stay within our circle\n",
    "    particles = (particles + move) % LENGTH\n",
    "    return particles"
   ]
  },
  {
   "attachments": {},
   "cell_type": "markdown",
   "metadata": {},
   "source": [
    "* `is_at_door` - zwraca `True` jeżeli punkt dany przez `position` znajduje się w obrębie drzwi, a `False` w przeciwnym przypadku.\n",
    "* `move_robot` - przesuwa robota znajdującego się w punkcie `position` w kierunku dodatnim o `move`.\n",
    "* `move_particles` - przesuwa nasz zbiór cząstek `particles` w kierunku dodatnim o `move`, tak aby odpowiadał pozycji robota po przesunięciu o `move`\n",
    "\n",
    "Jesteśmy teraz gotowi by napisać najbardziej kluczową funkcję naszego algorytmu `generate_particles`, która będzie generować nowy zbiór cząstek w zależności od poprzedniego zbioru cząstek oraz obserwacji otoczenia."
   ]
  },
  {
   "cell_type": "code",
   "execution_count": 5,
   "metadata": {},
   "outputs": [],
   "source": [
    "def generate_particles(particles, sensor, bandwidth):\n",
    "    \"\"\"Evaluates `particles` based on the `sensor` reading and generates new particles based on the evaluation;\n",
    "    returns new set of particles and (for visualization purposes) the distribution from which they were drawn\"\"\"\n",
    "\n",
    "    # Evaluate particles - exclude those that are inconsistent with the current sensor reading\n",
    "    weights = np.zeros(len(particles))\n",
    "    for i, p in enumerate(particles):\n",
    "        if is_at_door(p) == sensor:\n",
    "            weights[i] = 1\n",
    "\n",
    "    # No particles are consistent with the current sensor reading - we got lost, star over\n",
    "    if weights.sum() <= 0:\n",
    "        return rng.random(len(particles)) * LENGTH, np.ones(len(DISTRIBUTION_GRID)) / len(DISTRIBUTION_GRID)\n",
    "\n",
    "    # Interpolate density from consistent particles and draw new particles\n",
    "    consistent_particles = particles[weights > 0]\n",
    "    consistent_particles = np.hstack(  # the corridor is circular, we simulate that by adding copies on both ends\n",
    "        (consistent_particles - LENGTH, consistent_particles, consistent_particles + LENGTH))\n",
    "    kde = KernelDensity(kernel='gaussian', bandwidth=bandwidth).fit(\n",
    "        consistent_particles.reshape(-1, 1))\n",
    "    # modulo operation ensures that the particles stay within our circle\n",
    "    new_particles = kde.sample(len(particles)).flatten() % LENGTH\n",
    "\n",
    "    # calculate distribution for visualization purposes only\n",
    "    distribution = np.exp(kde.score_samples(DISTRIBUTION_GRID.reshape(-1, 1)).flatten())\n",
    "\n",
    "    return new_particles, distribution"
   ]
  },
  {
   "attachments": {},
   "cell_type": "markdown",
   "metadata": {},
   "source": [
    "Przeanalizujmy tę funkcję krok po kroku:\n",
    "* parametry które przyjmuje funkcja to:\n",
    "    * `particles` - zbiór cząstek wygenerowanych w poprzedniej iteracji algorytmu\n",
    "    * `sensor` - pomiar który robot wykonał po przejściu do nowej pozycji\n",
    "    * `bandwidth` - parametr estymatora jądrowego\n",
    "* w linijce 6. tworzymy tablicę wag `weights`, która będzie przechowywać informację o zgodności z pomiarem dla kolejnych cząstek (zgodnie z naszym uproszczonym modelem czujnika i ruchu: 0 - punkt niezgodny, 1 - punkt zgodny; w ogólności wagi mogłyby przyjmować inne wartości)\n",
    "* pętla `for` w linijkach 7-9 przechodzi po wszystkich cząstkach i sprawdza ich zgodność z pomiarem `sensor` - jeżeli dana cząstka jest zgodna, to odpowiadająca jej wartość w tablicy `weights` jest ustawiana na `1`\n",
    "* w linijce 12. sprawdzamy, czy istnieją cząstki zgodne z pomiarem `sensor`: jeżeli nie, to oznacza że się zgubiliśmy i musimy zacząć od nowa - zwracamy więc nowy losowy zbiór cząstek z rozkładu jednorodnego oraz reprezentację rozkładu jednorodnego (dla celów wizualizacji)\n",
    "* w linijkach 16-20 dokonujemy estymacji jądrowej rozkładu naszych zgodnych cząstek, by następnie w linijce 22. wybrać nowe cząstki `new_particles` z tego rozkładu\n",
    "* w linijce 27. zwracamy nowy zbiór cząstek `new particles` oraz zapisaną w linijce 23. reprezentację naszego rozkładu `distribution` (dla celów wizualizacji)"
   ]
  },
  {
   "attachments": {},
   "cell_type": "markdown",
   "metadata": {},
   "source": [
    "Zobaczmy teraz efekty naszej pracy. Zadeklarujmy:\n",
    "* funkcję `MCL`, która zaczynając od pozycji początkowej `position` wykona `iterations` iteracji algorytmu (w każdej przesuwając się o `move`, losując `resolution` cząstek, przyjmując parametr estymatora jądrowego `bandwidth`), a następnie zwróci dane potrzebne do wykonania animacji ilustrującej ruch i przewidywania robota, "
   ]
  },
  {
   "cell_type": "code",
   "execution_count": 12,
   "metadata": {},
   "outputs": [],
   "source": [
    "def MCL(starting_position, iterations, move, resolution, bandwidth):\n",
    "    \"\"\"Performs MCL on situation described by global parameters: `LENGTH`, `DOORS`, `DOOR_WIDTH`\"\"\"\n",
    "    # Performs first iteration without moving the robot\n",
    "    position = starting_position\n",
    "    sensor = is_at_door(position)\n",
    "    particles = rng.random(resolution) * LENGTH\n",
    "    particles, distribution = generate_particles(particles, sensor, bandwidth)\n",
    "\n",
    "    # Declares lists storing animation data\n",
    "    particle_history = [particles]\n",
    "    position_history = [position]\n",
    "    distribution_history = [distribution]\n",
    "\n",
    "    # Performs remaining `iterations - 1` iterations, moving the robot and particles before each iteration\n",
    "    for _ in range(iterations-1):\n",
    "        position, sensor = move_robot(position, move)\n",
    "        particles = move_particles(particles, move)\n",
    "        particles, distribution = generate_particles(\n",
    "            particles, sensor, bandwidth)\n",
    "        particle_history.append(particles)\n",
    "        position_history.append(position)\n",
    "        distribution_history.append(distribution)\n",
    "\n",
    "    return position_history, particle_history, distribution_history"
   ]
  },
  {
   "attachments": {},
   "cell_type": "markdown",
   "metadata": {},
   "source": [
    "* funkcję `animate`, która z podanych danych stworzy animację (prędkość kontrolowana przez `interval`)  i zapisze ją do pliku `filename`."
   ]
  },
  {
   "cell_type": "code",
   "execution_count": 14,
   "metadata": {},
   "outputs": [],
   "source": [
    "def animate(position_history, particle_history, distribution_history, interval, filename):\n",
    "    \"\"\"Generates animation, saves it to file specified by `filename`, attempts to display it in the notebook\"\"\"\n",
    "    fig, ax = plt.subplots()\n",
    "\n",
    "    # Draws doors and floor\n",
    "    for d in DOORS:\n",
    "        ax.add_patch(Rectangle((d - DOOR_WIDTH/2, 0.05), DOOR_WIDTH,\n",
    "                     2*DOOR_WIDTH/LENGTH, facecolor='tab:brown'))\n",
    "        ax.add_patch(Rectangle((d + LENGTH - DOOR_WIDTH/2, 0.05), DOOR_WIDTH,\n",
    "                     2*DOOR_WIDTH/LENGTH, facecolor='tab:brown'))\n",
    "        ax.add_patch(Rectangle((d - LENGTH - DOOR_WIDTH/2, 0.05), DOOR_WIDTH,\n",
    "                     2*DOOR_WIDTH/LENGTH, facecolor='tab:brown'))\n",
    "    ax.plot([0, LENGTH], [0.05, 0.05], color='tab:gray', linewidth=1)\n",
    "\n",
    "    # Generate artists for animation\n",
    "    artists = []\n",
    "    for i, p in enumerate(particle_history):\n",
    "        ax.set_xlim((0, LENGTH))\n",
    "        ax.set_ylim((0, 1))\n",
    "\n",
    "        # Draw particles\n",
    "        container = ax.plot(p, np.zeros(len(\n",
    "            particle_history[i])) + 0.025, \"o\", color='tab:red', fillstyle='none', markersize=8, alpha=0.2)\n",
    "        # Draw robot\n",
    "        container += ax.plot(position_history[i], 0.055,\n",
    "                             color='tab:green', markersize=20, marker=7)\n",
    "        # Draw distribution\n",
    "        container += ax.plot(DISTRIBUTION_GRID, distribution_history[i]/max(\n",
    "            distribution_history[i]), color='tab:red', linewidth=1)\n",
    "        # Draw position prediction\n",
    "        container += ax.plot(DISTRIBUTION_GRID[np.argmax(\n",
    "            distribution_history[i])], 0.055, color='tab:red', markersize=10, marker=7)\n",
    "\n",
    "        artists.append(container)\n",
    "\n",
    "    # Save animation to file\n",
    "    anim = animation.ArtistAnimation(\n",
    "        fig=fig, artists=artists, interval=interval)\n",
    "    anim.save(filename)\n",
    "    plt.show()"
   ]
  },
  {
   "attachments": {},
   "cell_type": "markdown",
   "metadata": {},
   "source": [
    "### Demonstracja\n",
    "Poniżej znajduje się kilka przykładów działania algorytmu. W razie problemów z wyświetlaniem, pliki .gif z animacjami znajdują się w folderze animations.\n",
    "#### Legenda:\n",
    "* **brązowe prostokąty** - drzwi (rzeczywisty rozmiar)\n",
    "* **zielony trójkąt** - robot (rzeczywista lokalizacja)\n",
    "* **czerwone**:\n",
    "    * **okręgi** - cząstki\n",
    "    * **krzywe** - wykres gęstości cząstek\n",
    "    * **trójkąt** - robot (przewidywana lokalizacja)"
   ]
  },
  {
   "attachments": {},
   "cell_type": "markdown",
   "metadata": {},
   "source": [
    "#### Przykład 1.\n",
    "![Ex. 1](animations/ex1.gif \"ex1\")\n",
    "\n",
    "Wygenerowany przez:\n",
    "```Python\n",
    "set_parameters(length=20, doors=[2, 10, 12, 17, 19], door_width=1)\n",
    "position_history, particle_history, distribution_history = MCL(\n",
    "    starting_position=0, iterations=100, move=0.2, resolution=100, bandwidth=.3)\n",
    "animate(position_history, particle_history,\n",
    "        distribution_history, interval=400, filename=\"anim.gif\")\n",
    "```\n",
    "\n",
    "Przykład poprawnego działania - na początku lekkie wątpliwości ze względu na niewystarczającą ilość informacji, potem bardzo stabilne"
   ]
  },
  {
   "attachments": {},
   "cell_type": "markdown",
   "metadata": {},
   "source": [
    "#### Przykład 2.\n",
    "![Ex. 2](animations/ex2.gif \"ex2\")\n",
    "\n",
    "Wygenerowany przez:\n",
    "```Python\n",
    "set_parameters(length=20, doors=[3, 5, 7, 12, 14, 18], door_width=1)\n",
    "position_history, particle_history, distribution_history = MCL(\n",
    "    starting_position=0, iterations=100, move=0.2, resolution=50, bandwidth=.1)\n",
    "animate(position_history, particle_history,\n",
    "        distribution_history, interval=400, filename=\"anim.gif\")\n",
    "```\n",
    "\n",
    "Niewiele cząstek, robot robi złą predykcję, przez co w pewnym momencie gubi się, a następnie znajduje od nowa."
   ]
  },
  {
   "attachments": {},
   "cell_type": "markdown",
   "metadata": {},
   "source": [
    "#### Przykład 3.\n",
    "![Ex. 3](animations/ex3.gif \"ex3\")\n",
    "\n",
    "Wygenerowany przez:\n",
    "```Python\n",
    "set_parameters(length=20, doors=[3, 5, 7, 12, 14, 18], door_width=1)\n",
    "position_history, particle_history, distribution_history = MCL(\n",
    "    starting_position=0, iterations=100, move=0.2, resolution=100, bandwidth=.2)\n",
    "animate(position_history, particle_history,\n",
    "        distribution_history, interval=400, filename=\"anim.gif\")\n",
    "```\n",
    "\n",
    "Po delikatnej zmianie parametrów algorytm stał się dużo skuteczniejszy."
   ]
  },
  {
   "attachments": {},
   "cell_type": "markdown",
   "metadata": {},
   "source": [
    "#### Przykład 4.\n",
    "![Ex. 4](animations/ex4.gif \"ex4\")\n",
    "\n",
    "Wygenerowany przez:\n",
    "```Python\n",
    "set_parameters(length=20, doors=[4, 8, 12, 16, 20], door_width=1)\n",
    "position_history, particle_history, distribution_history = MCL(\n",
    "    starting_position=0, iterations=100, move=0.2, resolution=100, bandwidth=.3)\n",
    "animate(position_history, particle_history,\n",
    "        distribution_history, interval=400, filename=\"anim.gif\")\n",
    "```\n",
    "Gdy środowisko jest zbyt symetryczne algorytm nie jest skuteczny"
   ]
  },
  {
   "attachments": {},
   "cell_type": "markdown",
   "metadata": {},
   "source": [
    "#### Przykład ...\n",
    "Zachęcam do eksperymentowania z wartościami parametrów i tworzenia następnych ciekawych przykładów - efekt pracy zostanie zapisany do pliku `\"anim.gif\"`"
   ]
  },
  {
   "cell_type": "code",
   "execution_count": null,
   "metadata": {},
   "outputs": [],
   "source": [
    "set_parameters(length=20, doors=[4, 6], door_width=1)\n",
    "position_history, particle_history, distribution_history = MCL(\n",
    "    starting_position=0, iterations=100, move=0.2, resolution=100, bandwidth=.3)\n",
    "animate(position_history, particle_history,\n",
    "        distribution_history, interval=400, filename=\"anim.gif\")"
   ]
  },
  {
   "attachments": {},
   "cell_type": "markdown",
   "metadata": {},
   "source": [
    "<div style=\"text-align: right\">\n",
    "<i> Źródła: <br></i>\n",
    "<i href=\"https://www.ri.cmu.edu/pub_files/pub1/dellaert_frank_1999_2/dellaert_frank_1999_2.pdf\"> Frank Dellaert, Dieter Fox, Wolfram Burgard, Sebastian Thrun \"Monte Carlo Localization for Mobile Robots\" <br></i>\n",
    "<i href=\"https://en.wikipedia.org/wiki/Monte_Carlo_localization\"> Wikipedia <br></i>\n",
    "</div>"
   ]
  },
  {
   "attachments": {},
   "cell_type": "markdown",
   "metadata": {},
   "source": []
  }
 ],
 "metadata": {
  "kernelspec": {
   "display_name": "venv",
   "language": "python",
   "name": "python3"
  },
  "language_info": {
   "codemirror_mode": {
    "name": "ipython",
    "version": 3
   },
   "file_extension": ".py",
   "mimetype": "text/x-python",
   "name": "python",
   "nbconvert_exporter": "python",
   "pygments_lexer": "ipython3",
   "version": "3.10.6"
  },
  "orig_nbformat": 4
 },
 "nbformat": 4,
 "nbformat_minor": 2
}
